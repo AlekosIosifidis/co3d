{
 "cells": [
  {
   "cell_type": "markdown",
   "id": "040aabfd-ed69-4545-9051-7e6f939a72b6",
   "metadata": {},
   "source": [
    "# Prediction visualisations"
   ]
  },
  {
   "cell_type": "code",
   "execution_count": 1,
   "id": "4a794b95-3b0a-4d8c-abd0-23381ac6dac4",
   "metadata": {},
   "outputs": [],
   "source": [
    "import torch\n",
    "from torch.utils.data import DataLoader"
   ]
  },
  {
   "cell_type": "code",
   "execution_count": 2,
   "id": "30e87157-819c-430a-97ed-3e3b7cf68b14",
   "metadata": {},
   "outputs": [
    {
     "data": {
      "text/plain": [
       "['/home/lh/projects/co3d/notebooks',\n",
       " '/opt/anaconda/lib/python38.zip',\n",
       " '/opt/anaconda/lib/python3.8',\n",
       " '/opt/anaconda/lib/python3.8/lib-dynload',\n",
       " '',\n",
       " '/home/lh/.local/lib/python3.8/site-packages',\n",
       " '/opt/anaconda/lib/python3.8/site-packages',\n",
       " '/home/lh/projects/co3d',\n",
       " '/opt/anaconda/lib/python3.8/site-packages/locket-0.2.1-py3.8.egg',\n",
       " '/home/lh/.local/lib/python3.8/site-packages/IPython/extensions',\n",
       " '/home/lh/.ipython']"
      ]
     },
     "execution_count": 2,
     "metadata": {},
     "output_type": "execute_result"
    }
   ],
   "source": [
    "import sys\n",
    "sys.path.remove('/home/lh/projects/cost-gcn')\n",
    "sys.path"
   ]
  },
  {
   "cell_type": "markdown",
   "id": "999ac580-8321-4620-8f9d-b46fb66b5cd1",
   "metadata": {},
   "source": [
    "# Poolsize: 1"
   ]
  },
  {
   "cell_type": "code",
   "execution_count": 3,
   "id": "be3ff7f5-950e-4f48-99c0-49893cda44fc",
   "metadata": {},
   "outputs": [
    {
     "name": "stderr",
     "output_type": "stream",
     "text": [
      "\u001b[36m\u001b[1mride\u001b[0m: Environment:\n",
      "  CACHE_PATH: .cache\n",
      "  DATASETS_PATH: /home/lh/datasets\n",
      "  LOGS_PATH: /mnt/archive/lh/hags/logs\n",
      "  LOG_LEVEL: DEBUG\n",
      "  NUM_CPU: '104'\n",
      "  RUN_LOGS_PATH: /mnt/archive/lh/hags/logs/run_logs\n",
      "  TUNE_LOGS_PATH: /mnt/archive/lh/hags/logs/tune_logs\n",
      "\n",
      "/home/lh/.local/lib/python3.8/site-packages/torchvision/transforms/_functional_video.py:5: UserWarning: The _functional_video module is deprecated. Please use the functional module instead.\n",
      "  warnings.warn(\n",
      "/home/lh/.local/lib/python3.8/site-packages/torchvision/transforms/_transforms_video.py:25: UserWarning: The _transforms_video module is deprecated. Please use the transforms module instead.\n",
      "  warnings.warn(\n",
      "\u001b[35m\u001b[1mdatasets\u001b[0m: Using validation set for training as is customary for THUMOS14 Action Detection.\n"
     ]
    }
   ],
   "source": [
    "# Get dataloader\n",
    "from ride.utils.env import DATASETS_PATH\n",
    "from datasets.dataloader import train_val_test\n",
    "\n",
    "kwargs = {'data_path': '/home/lh/datasets/thumos14/data', 'annotation_path': '/home/lh/datasets/thumos14/splits', 'frames_per_clip': 483, 'step_between_clips': 400, 'temporal_downsampling': 6, 'fold': 1, 'val_split_pct': 0.15, 'image_size': 160, 'test_ensemble': 0, 'test_ensemble_temporal_clips': 10, 'test_ensemble_spatial_sampling_strategy': 'center', 'normalisation_style': 'feichtenhofer', 'rand_augment_magnitude': 7, 'rand_augment_num_layers': 2}\n",
    "\n",
    "\n",
    "train_ds, val_ds, test_ds = train_val_test(**kwargs)"
   ]
  },
  {
   "cell_type": "code",
   "execution_count": 4,
   "id": "3ffe460c-6c82-4c32-b427-259176caa0f2",
   "metadata": {},
   "outputs": [
    {
     "data": {
      "text/plain": [
       "(torch.Size([3, 483, 160, 160]),\n",
       " tensor([ 0,  0,  0,  0,  0,  0,  0,  0,  0,  0,  0,  0,  0,  0,  0,  0,  0,  0,\n",
       "          0,  0,  0,  0,  0,  0,  0,  0,  0,  0,  0,  0,  0,  0,  0,  0,  3,  3,\n",
       "          3,  3,  3,  3,  3,  3,  3,  3,  3,  3,  3,  3,  3,  3,  3,  3,  3,  3,\n",
       "          0,  0,  0,  0,  0,  0,  0,  0, 21, 21, 21, 21,  0,  0,  0,  0,  0,  0,\n",
       "          0,  0,  0,  0,  3,  3,  3,  3,  3,  3,  3,  0,  0,  0,  0,  0,  0,  0,\n",
       "          0,  0,  0,  3,  3,  3,  3,  3,  3,  3,  3,  3,  3,  3,  3,  3,  3,  3,\n",
       "          3,  3,  3,  3,  0,  0,  0,  0,  0,  0,  0,  0,  0,  0,  0,  0,  0,  0,\n",
       "          0,  0,  0,  0,  0,  0,  0,  0,  0,  0,  0,  0,  0,  0,  0,  0,  3,  3,\n",
       "          3,  0,  0,  0,  0,  0,  0,  0,  0,  0,  0,  0,  0,  0,  0,  0,  0,  0,\n",
       "          0,  0,  0,  0,  0,  0,  3,  3,  3,  3,  3,  3,  3,  3,  3,  3,  0,  0,\n",
       "          0,  0,  0,  0,  0,  0,  0,  0,  0,  0,  0,  0,  0,  0,  3,  3,  3,  3,\n",
       "          0,  0,  0,  0,  0,  0,  0,  0,  0,  0,  0,  0,  0,  0,  0,  0,  0,  0,\n",
       "          0,  0,  0,  0,  0,  0,  0,  0,  3,  3,  3,  3,  3,  3,  3,  3,  3,  3,\n",
       "          0,  0,  0,  0,  0,  0,  0,  0,  0,  0,  0,  0,  0,  0,  0,  0,  0,  0,\n",
       "          0,  0,  0,  0,  0,  0,  0,  0,  0,  0,  0,  0,  0,  0,  0,  0,  0,  0,\n",
       "          0,  0,  0,  0,  0,  0,  0,  0,  0,  0,  0,  0,  0,  0,  0,  0,  3,  3,\n",
       "          3,  3,  3,  0,  0,  0,  0,  0,  0,  0,  0,  0,  0,  0,  0,  0,  0,  0,\n",
       "          0,  0,  0,  0,  0,  0,  0,  0,  0,  0,  0,  0,  0,  0,  0,  0,  0,  3,\n",
       "          3,  3,  3,  3,  0,  0,  0,  0,  0,  0,  0,  0,  0,  0,  0,  0,  0,  0,\n",
       "          0,  0,  0,  0,  0,  0,  0,  0,  0,  0,  0,  0,  0,  3,  3,  3,  3,  3,\n",
       "          3,  3,  3,  3,  3,  3,  3,  3,  3,  3,  0,  0,  0,  0,  0,  0,  0,  0,\n",
       "          0,  0,  0,  0,  3,  3,  3,  3,  0,  0,  0,  0,  0,  0,  0,  0,  0,  0,\n",
       "          0,  0,  0,  0,  0,  0,  0,  0,  0,  0,  0,  0,  0,  0,  0,  0,  0,  0,\n",
       "          0,  0,  3,  3,  3,  3,  3,  3,  0,  0,  0,  0,  0,  0,  0,  0,  0,  0,\n",
       "          0,  0,  0,  0,  0,  0,  0,  0,  0,  0,  0,  0,  0,  3,  3,  0,  0,  0,\n",
       "          0,  0,  0,  0,  0,  0,  3,  3,  3,  3,  0,  0,  0,  0,  0,  0,  0,  0,\n",
       "          0,  0,  0,  0,  0,  3,  3,  3,  3,  3,  3,  0,  0,  0,  0]),\n",
       " 1)"
      ]
     },
     "execution_count": 4,
     "metadata": {},
     "output_type": "execute_result"
    }
   ],
   "source": [
    "x, y, i = test_ds[0]\n",
    "x.shape, y, i"
   ]
  },
  {
   "cell_type": "code",
   "execution_count": 5,
   "id": "ba128457-52c2-4a54-b4b7-ac21062cf14d",
   "metadata": {},
   "outputs": [],
   "source": [
    "ys = [test_ds[i][1] for i in range(4)]"
   ]
  },
  {
   "cell_type": "code",
   "execution_count": 6,
   "id": "597fd7a1-d76a-42d9-8fc0-c7d1f185d318",
   "metadata": {},
   "outputs": [],
   "source": [
    "# Load extracted features\n",
    "import pickle\n",
    "\n",
    "fpath = \"/mnt/archive/lh/hags/logs/run_logs/unnamed/version_457/features/test/module_head_projection.pickle\"\n",
    "with open(fpath, \"rb\") as f:\n",
    "    feat = pickle.load(f)"
   ]
  },
  {
   "cell_type": "code",
   "execution_count": 7,
   "id": "e2240017-d339-447a-8f73-d276b5d6b54f",
   "metadata": {
    "collapsed": true,
    "jupyter": {
     "outputs_hidden": true
    },
    "tags": []
   },
   "outputs": [
    {
     "data": {
      "text/plain": [
       "[(22, 55, 1, 1),\n",
       " (22, 55, 1, 1),\n",
       " (22, 400, 1, 1),\n",
       " (22, 400, 1, 1),\n",
       " (22, 55, 1, 1),\n",
       " (22, 55, 1, 1),\n",
       " (22, 400, 1, 1),\n",
       " (22, 400, 1, 1),\n",
       " (22, 55, 1, 1),\n",
       " (22, 55, 1, 1),\n",
       " (22, 400, 1, 1),\n",
       " (22, 400, 1, 1),\n",
       " (22, 55, 1, 1),\n",
       " (22, 55, 1, 1),\n",
       " (22, 400, 1, 1),\n",
       " (22, 400, 1, 1),\n",
       " (22, 55, 1, 1),\n",
       " (22, 55, 1, 1),\n",
       " (22, 400, 1, 1),\n",
       " (22, 400, 1, 1),\n",
       " (22, 55, 1, 1),\n",
       " (22, 55, 1, 1),\n",
       " (22, 400, 1, 1),\n",
       " (22, 400, 1, 1),\n",
       " (22, 55, 1, 1),\n",
       " (22, 55, 1, 1),\n",
       " (22, 400, 1, 1),\n",
       " (22, 400, 1, 1),\n",
       " (22, 55, 1, 1),\n",
       " (22, 55, 1, 1),\n",
       " (22, 400, 1, 1),\n",
       " (22, 400, 1, 1),\n",
       " (22, 55, 1, 1),\n",
       " (22, 55, 1, 1),\n",
       " (22, 400, 1, 1),\n",
       " (22, 400, 1, 1),\n",
       " (22, 55, 1, 1),\n",
       " (22, 55, 1, 1),\n",
       " (22, 400, 1, 1),\n",
       " (22, 400, 1, 1)]"
      ]
     },
     "execution_count": 7,
     "metadata": {},
     "output_type": "execute_result"
    }
   ],
   "source": [
    "# The loaded features constitue init frames and then predicted frames\n",
    "[f.shape for f in feat]"
   ]
  },
  {
   "cell_type": "code",
   "execution_count": 7,
   "id": "cc0dcb8d-e21e-440b-bb74-e3af664e3b41",
   "metadata": {},
   "outputs": [],
   "source": [
    "# Clean\n",
    "feat = [f.squeeze() for f in feat if f.shape[1] != 55]"
   ]
  },
  {
   "cell_type": "code",
   "execution_count": 8,
   "id": "050619ba-a35f-49fd-9e53-2286d80b5b6b",
   "metadata": {},
   "outputs": [
    {
     "data": {
      "text/plain": [
       "[(22, 400),\n",
       " (22, 400),\n",
       " (22, 400),\n",
       " (22, 400),\n",
       " (22, 400),\n",
       " (22, 400),\n",
       " (22, 400),\n",
       " (22, 400),\n",
       " (22, 400),\n",
       " (22, 400),\n",
       " (22, 400),\n",
       " (22, 400),\n",
       " (22, 400),\n",
       " (22, 400),\n",
       " (22, 400),\n",
       " (22, 400),\n",
       " (22, 400),\n",
       " (22, 400),\n",
       " (22, 400),\n",
       " (22, 400)]"
      ]
     },
     "execution_count": 8,
     "metadata": {},
     "output_type": "execute_result"
    }
   ],
   "source": [
    "[f.shape for f in feat]"
   ]
  },
  {
   "cell_type": "code",
   "execution_count": 62,
   "id": "919ad882-9d57-4e30-9540-28cf91152198",
   "metadata": {},
   "outputs": [
    {
     "data": {
      "image/png": "[encoded data removed]",
      "text/plain": [
       "<Figure size 960x640 with 1 Axes>"
      ]
     },
     "metadata": {
      "needs_background": "light"
     },
     "output_type": "display_data"
    }
   ],
   "source": [
    "import matplotlib.pyplot as plt\n",
    "import numpy as np\n",
    "\n",
    "idx = 1\n",
    "preds = feat[idx]\n",
    "preds = torch.nn.functional.softmax(torch.tensor(preds), dim=0)\n",
    "\n",
    "# Average preds\n",
    "# window_size = 1\n",
    "# preds_avg = preds[:,:-window_size]\n",
    "# for w in range(1, window_size):\n",
    "#     preds_avg = preds_avg + preds[:,w:-(window_size-w)]\n",
    "# preds_avg = preds_avg / window_size\n",
    "# preds = preds_avg\n",
    "C, N = preds.shape\n",
    "\n",
    "targets = ys[idx]\n",
    "targets = targets[-N:]\n",
    "\n",
    "colors = np.random.rand(N)\n",
    "\n",
    "y_shift = 0.3\n",
    "marker = \"|\"\n",
    "\n",
    "plt.figure(figsize=(12, 8), dpi=80)\n",
    "plt.yticks(range(C), test_ds.classes)\n",
    "plt.yticks(range(N))\n",
    "\n",
    "plt.scatter(range(N), targets + y_shift, color=\"black\", alpha=1, marker=marker)\n",
    "\n",
    "plt.scatter(range(N), preds.argmax(0), color=\"red\", alpha=1, marker=marker)\n",
    "for c in range(C):\n",
    "    plt.scatter(range(N), [c - y_shift for _ in range(N)] , color=\"purple\", alpha=preds[c], marker=marker)\n",
    "\n",
    "plt.show()"
   ]
  },
  {
   "cell_type": "code",
   "execution_count": 63,
   "id": "f4b04d63-8cdd-4743-b246-05169498f031",
   "metadata": {},
   "outputs": [
    {
     "data": {
      "text/plain": [
       "(0.4142929685354868, 0.5978247725242923)"
      ]
     },
     "execution_count": 63,
     "metadata": {},
     "output_type": "execute_result"
    }
   ],
   "source": [
    "from metrics.calibrated_average_precision import mean_calibrated_average_precision\n",
    "\n",
    "# C, N = preds.shape\n",
    "mean_calibrated_average_precision(preds.permute(1,0), targets, skip_classes=[0,21])[:2]  # mAP, mcAP"
   ]
  },
  {
   "cell_type": "markdown",
   "id": "031d6d67-6431-418a-9484-f4a6a20dd93f",
   "metadata": {},
   "source": [
    "# Pooling size 5"
   ]
  },
  {
   "cell_type": "code",
   "execution_count": 97,
   "id": "16ad7bef-36b3-4022-b12d-191cf74348cb",
   "metadata": {},
   "outputs": [],
   "source": [
    "# Get dataloader\n",
    "from ride.utils.env import DATASETS_PATH\n",
    "from datasets.dataloader import train_val_test\n",
    "\n",
    "kwargs = {'data_path': '/home/lh/datasets/thumos14/data', 'annotation_path': '/home/lh/datasets/thumos14/splits', 'frames_per_clip': 200+127, 'step_between_clips': 200+64, 'temporal_downsampling': 6, 'fold': 1, 'val_split_pct': 0.15, 'image_size': 160, 'test_ensemble': 0, 'test_ensemble_temporal_clips': 10, 'test_ensemble_spatial_sampling_strategy': 'center', 'normalisation_style': 'feichtenhofer', 'rand_augment_magnitude': 7, 'rand_augment_num_layers': 2}\n",
    "\n",
    "\n",
    "train_ds, val_ds, test_ds = train_val_test(**kwargs)\n",
    "\n",
    "ys = [test_ds[i][1] for i in range(10)]"
   ]
  },
  {
   "cell_type": "code",
   "execution_count": 98,
   "id": "7bd79454-90cf-48ca-8a15-65d3045a49b1",
   "metadata": {},
   "outputs": [
    {
     "data": {
      "text/plain": [
       "[(22, 264),\n",
       " (22, 264),\n",
       " (22, 264),\n",
       " (22, 264),\n",
       " (22, 264),\n",
       " (22, 264),\n",
       " (22, 264),\n",
       " (22, 264),\n",
       " (22, 264),\n",
       " (22, 264),\n",
       " (22, 264),\n",
       " (22, 264),\n",
       " (22, 264),\n",
       " (22, 264),\n",
       " (22, 264),\n",
       " (22, 264),\n",
       " (22, 264),\n",
       " (22, 264),\n",
       " (22, 264),\n",
       " (22, 264),\n",
       " (22, 264),\n",
       " (22, 264),\n",
       " (22, 264),\n",
       " (22, 264),\n",
       " (22, 264),\n",
       " (22, 264),\n",
       " (22, 264),\n",
       " (22, 264),\n",
       " (22, 264),\n",
       " (22, 264),\n",
       " (22, 264),\n",
       " (22, 264),\n",
       " (22, 264),\n",
       " (22, 264),\n",
       " (22, 264),\n",
       " (22, 264),\n",
       " (22, 264),\n",
       " (22, 264),\n",
       " (22, 264),\n",
       " (22, 264)]"
      ]
     },
     "execution_count": 98,
     "metadata": {},
     "output_type": "execute_result"
    }
   ],
   "source": [
    "# Load extracted features\n",
    "import pickle\n",
    "\n",
    "fpath = \"/mnt/archive/lh/hags/logs/run_logs/wandb/run-20211014_081240-2fh3xwf9/features/test/module_head_projection.pickle\"\n",
    "with open(fpath, \"rb\") as f:\n",
    "    feat = pickle.load(f)\n",
    "    \n",
    "# Clean\n",
    "feat = [f.squeeze() for f in feat if f.shape[1] != 31]\n",
    "[f.shape for f in feat]"
   ]
  },
  {
   "cell_type": "code",
   "execution_count": 101,
   "id": "2a4eeb0e-4ac0-481e-a422-2c55c062d349",
   "metadata": {},
   "outputs": [
    {
     "data": {
      "image/png": "[encoded data removed]",
      "text/plain": [
       "<Figure size 960x640 with 1 Axes>"
      ]
     },
     "metadata": {
      "needs_background": "light"
     },
     "output_type": "display_data"
    }
   ],
   "source": [
    "# Visualise\n",
    "import matplotlib.pyplot as plt\n",
    "import numpy as np\n",
    "\n",
    "idx = 4\n",
    "preds = feat[idx]\n",
    "preds = torch.nn.functional.softmax(torch.tensor(preds), dim=0)\n",
    "\n",
    "# Average preds\n",
    "# window_size = 1\n",
    "# preds_avg = preds[:,:-window_size]\n",
    "# for w in range(1, window_size):\n",
    "#     preds_avg = preds_avg + preds[:,w:-(window_size-w)]\n",
    "# preds_avg = preds_avg / window_size\n",
    "# preds = preds_avg\n",
    "C, N = preds.shape\n",
    "\n",
    "targets = ys[idx]\n",
    "targets = targets[-N:]\n",
    "\n",
    "colors = np.random.rand(N)\n",
    "\n",
    "y_shift = 0.3\n",
    "marker = \"|\"\n",
    "\n",
    "plt.figure(figsize=(12, 8), dpi=80)\n",
    "plt.yticks(range(C), test_ds.classes)\n",
    "plt.yticks(range(N))\n",
    "\n",
    "plt.scatter(range(N), targets + y_shift, color=\"black\", alpha=1, marker=marker)\n",
    "\n",
    "plt.scatter(range(N), preds.argmax(0), color=\"red\", alpha=1, marker=marker)\n",
    "for c in range(C):\n",
    "    plt.scatter(range(N), [c - y_shift for _ in range(N)] , color=\"purple\", alpha=preds[c], marker=marker)\n",
    "\n",
    "plt.show()"
   ]
  },
  {
   "cell_type": "code",
   "execution_count": 102,
   "id": "f6433619-425f-497b-bad1-97a874015c18",
   "metadata": {},
   "outputs": [
    {
     "data": {
      "text/plain": [
       "(0.41270120564091417, 0.42739399378803716)"
      ]
     },
     "execution_count": 102,
     "metadata": {},
     "output_type": "execute_result"
    }
   ],
   "source": [
    "from metrics.calibrated_average_precision import mean_calibrated_average_precision\n",
    "\n",
    "# C, N = preds.shape\n",
    "mean_calibrated_average_precision(preds.permute(1,0), targets, skip_classes=[0,21])[:2]  # mAP, mcAP"
   ]
  },
  {
   "cell_type": "markdown",
   "id": "4a5bbd34-f8bc-4c0a-b9f8-4cb8f1104dd6",
   "metadata": {},
   "source": [
    "# Pooling size 64"
   ]
  },
  {
   "cell_type": "code",
   "execution_count": 79,
   "id": "e3ccae19-2ed9-4a25-9a82-2e1f71796c92",
   "metadata": {},
   "outputs": [],
   "source": [
    "# Get dataloader\n",
    "from ride.utils.env import DATASETS_PATH\n",
    "from datasets.dataloader import train_val_test\n",
    "\n",
    "kwargs = {'data_path': '/home/lh/datasets/thumos14/data', 'annotation_path': '/home/lh/datasets/thumos14/splits', 'frames_per_clip': 200+183, 'step_between_clips': 200+64, 'temporal_downsampling': 6, 'fold': 1, 'val_split_pct': 0.15, 'image_size': 160, 'test_ensemble': 0, 'test_ensemble_temporal_clips': 10, 'test_ensemble_spatial_sampling_strategy': 'center', 'normalisation_style': 'feichtenhofer', 'rand_augment_magnitude': 7, 'rand_augment_num_layers': 2}\n",
    "\n",
    "\n",
    "train_ds, val_ds, test_ds = train_val_test(**kwargs)\n",
    "\n",
    "ys = [test_ds[i][1] for i in range(10)]"
   ]
  },
  {
   "cell_type": "code",
   "execution_count": 74,
   "id": "936921a8-4fb8-4754-8f04-125c06482f86",
   "metadata": {
    "collapsed": true,
    "jupyter": {
     "outputs_hidden": true
    },
    "tags": []
   },
   "outputs": [
    {
     "data": {
      "text/plain": [
       "[(22, 264),\n",
       " (22, 264),\n",
       " (22, 264),\n",
       " (22, 264),\n",
       " (22, 264),\n",
       " (22, 264),\n",
       " (22, 264),\n",
       " (22, 264),\n",
       " (22, 264),\n",
       " (22, 264),\n",
       " (22, 264),\n",
       " (22, 264),\n",
       " (22, 264),\n",
       " (22, 264),\n",
       " (22, 264),\n",
       " (22, 264),\n",
       " (22, 264),\n",
       " (22, 264),\n",
       " (22, 264),\n",
       " (22, 264),\n",
       " (22, 264),\n",
       " (22, 264),\n",
       " (22, 264),\n",
       " (22, 264),\n",
       " (22, 264),\n",
       " (22, 264),\n",
       " (22, 264),\n",
       " (22, 264),\n",
       " (22, 264),\n",
       " (22, 264),\n",
       " (22, 264),\n",
       " (22, 264),\n",
       " (22, 264),\n",
       " (22, 264),\n",
       " (22, 264),\n",
       " (22, 264),\n",
       " (22, 264),\n",
       " (22, 264),\n",
       " (22, 264),\n",
       " (22, 264)]"
      ]
     },
     "execution_count": 74,
     "metadata": {},
     "output_type": "execute_result"
    }
   ],
   "source": [
    "# Load extracted features\n",
    "import pickle\n",
    "\n",
    "fpath = \"/mnt/archive/lh/hags/logs/run_logs/wandb/run-20211014_075921-pun7xcr9/features/test/module_head_projection.pickle\"\n",
    "with open(fpath, \"rb\") as f:\n",
    "    feat = pickle.load(f)\n",
    "    \n",
    "# Clean\n",
    "feat = [f.squeeze() for f in feat if f.shape[1] != 28]\n",
    "[f.shape for f in feat]"
   ]
  },
  {
   "cell_type": "code",
   "execution_count": 85,
   "id": "fa7956e5-fdec-43d8-9fd4-6ab31d455a8b",
   "metadata": {},
   "outputs": [
    {
     "data": {
      "image/png": "[encoded data removed]",
      "text/plain": [
       "<Figure size 960x640 with 1 Axes>"
      ]
     },
     "metadata": {
      "needs_background": "light"
     },
     "output_type": "display_data"
    }
   ],
   "source": [
    "# Visualise\n",
    "import matplotlib.pyplot as plt\n",
    "import numpy as np\n",
    "\n",
    "idx = 8\n",
    "preds = feat[idx]\n",
    "preds = torch.nn.functional.softmax(torch.tensor(preds), dim=0)\n",
    "\n",
    "# Average preds\n",
    "# window_size = 1\n",
    "# preds_avg = preds[:,:-window_size]\n",
    "# for w in range(1, window_size):\n",
    "#     preds_avg = preds_avg + preds[:,w:-(window_size-w)]\n",
    "# preds_avg = preds_avg / window_size\n",
    "# preds = preds_avg\n",
    "C, N = preds.shape\n",
    "\n",
    "targets = ys[idx]\n",
    "targets = targets[-N:]\n",
    "\n",
    "colors = np.random.rand(N)\n",
    "\n",
    "y_shift = 0.3\n",
    "marker = \"|\"\n",
    "\n",
    "plt.figure(figsize=(12, 8), dpi=80)\n",
    "plt.yticks(range(C), test_ds.classes)\n",
    "plt.yticks(range(N))\n",
    "\n",
    "plt.scatter(range(N), targets + y_shift, color=\"black\", alpha=1, marker=marker)\n",
    "\n",
    "plt.scatter(range(N), preds.argmax(0), color=\"red\", alpha=1, marker=marker)\n",
    "for c in range(C):\n",
    "    plt.scatter(range(N), [c - y_shift for _ in range(N)] , color=\"purple\", alpha=preds[c], marker=marker)\n",
    "\n",
    "plt.show()"
   ]
  },
  {
   "cell_type": "code",
   "execution_count": 89,
   "id": "9fdc0b79-ed37-47b4-b117-f1fce8a214a9",
   "metadata": {},
   "outputs": [
    {
     "data": {
      "text/plain": [
       "(0.1512704484633828, 0.3388726662261619)"
      ]
     },
     "execution_count": 89,
     "metadata": {},
     "output_type": "execute_result"
    }
   ],
   "source": [
    "from metrics.calibrated_average_precision import mean_calibrated_average_precision\n",
    "\n",
    "# C, N = preds.shape\n",
    "mean_calibrated_average_precision(preds.permute(1,0), targets, skip_classes=[0,21])[:2]  # mAP, mcAP"
   ]
  },
  {
   "cell_type": "code",
   "execution_count": null,
   "id": "d70acbe0-c22e-4da3-b417-c3b1db7c33c3",
   "metadata": {},
   "outputs": [],
   "source": []
  }
 ],
 "metadata": {
  "kernelspec": {
   "display_name": "Python 3",
   "language": "python",
   "name": "python3"
  },
  "language_info": {
   "codemirror_mode": {
    "name": "ipython",
    "version": 3
   },
   "file_extension": ".py",
   "mimetype": "text/x-python",
   "name": "python",
   "nbconvert_exporter": "python",
   "pygments_lexer": "ipython3",
   "version": "3.8.8"
  }
 },
 "nbformat": 4,
 "nbformat_minor": 5
}
