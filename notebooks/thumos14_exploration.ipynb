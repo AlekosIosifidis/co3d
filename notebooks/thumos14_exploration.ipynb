{
 "cells": [
  {
   "cell_type": "markdown",
   "id": "03cf9188-997a-47a9-90ef-0f45fec7e18f",
   "metadata": {},
   "source": [
    "# Thumos14 exploration"
   ]
  },
  {
   "cell_type": "code",
   "execution_count": 25,
   "id": "09d625f5-921b-411e-bb0c-d46b0dc3675a",
   "metadata": {},
   "outputs": [],
   "source": [
    "from pathlib import Path\n",
    "import pickle\n",
    "import av\n",
    "import pandas as pd"
   ]
  },
  {
   "cell_type": "code",
   "execution_count": 18,
   "id": "5b60fdf9-503e-486c-8213-99fcc7487c16",
   "metadata": {},
   "outputs": [],
   "source": [
    "BASE_PATH = Path(\"/mnt/archive/common/datasets/thumos14\")"
   ]
  },
  {
   "cell_type": "code",
   "execution_count": 19,
   "id": "774ed714-c9f6-4c7c-b670-fd9c4576e386",
   "metadata": {},
   "outputs": [],
   "source": [
    "ds_path = BASE_PATH / \"splits/val.pickle\"\n",
    "assert ds_path.exists()\n",
    "\n",
    "with open(ds_path, 'rb') as f:\n",
    "    ds = pickle.load(f)"
   ]
  },
  {
   "cell_type": "code",
   "execution_count": 39,
   "id": "1376a492-8619-4f9e-a1fb-e7b94efb92c9",
   "metadata": {},
   "outputs": [
    {
     "data": {
      "text/plain": [
       "False"
      ]
     },
     "execution_count": 39,
     "metadata": {},
     "output_type": "execute_result"
    }
   ],
   "source": [
    "ds[vid_id]['anno'][0].s"
   ]
  },
  {
   "cell_type": "code",
   "execution_count": 31,
   "id": "df6cacfe-949b-45bc-bd02-a4243a5a5178",
   "metadata": {},
   "outputs": [
    {
     "data": {
      "text/plain": [
       "(308, 22)"
      ]
     },
     "execution_count": 31,
     "metadata": {},
     "output_type": "execute_result"
    }
   ],
   "source": [
    "# BaseballPitch: video_validation_0000683\n",
    "# VoleyballSpiking: video_validation_0000987\n",
    "vid_id = 'video_validation_0000283'\n",
    "ds[vid_id]['anno'].shape"
   ]
  },
  {
   "cell_type": "code",
   "execution_count": 10,
   "id": "3993a320-f311-411d-8f80-8f66a92f9644",
   "metadata": {},
   "outputs": [
    {
     "data": {
      "text/html": [
       "<div>\n",
       "<style scoped>\n",
       "    .dataframe tbody tr th:only-of-type {\n",
       "        vertical-align: middle;\n",
       "    }\n",
       "\n",
       "    .dataframe tbody tr th {\n",
       "        vertical-align: top;\n",
       "    }\n",
       "\n",
       "    .dataframe thead th {\n",
       "        text-align: right;\n",
       "    }\n",
       "</style>\n",
       "<table border=\"1\" class=\"dataframe\">\n",
       "  <thead>\n",
       "    <tr style=\"text-align: right;\">\n",
       "      <th></th>\n",
       "      <th>0</th>\n",
       "      <th>1</th>\n",
       "    </tr>\n",
       "  </thead>\n",
       "  <tbody>\n",
       "    <tr>\n",
       "      <th>0</th>\n",
       "      <td>7</td>\n",
       "      <td>BaseballPitch</td>\n",
       "    </tr>\n",
       "    <tr>\n",
       "      <th>1</th>\n",
       "      <td>9</td>\n",
       "      <td>BasketballDunk</td>\n",
       "    </tr>\n",
       "    <tr>\n",
       "      <th>2</th>\n",
       "      <td>12</td>\n",
       "      <td>Billiards</td>\n",
       "    </tr>\n",
       "    <tr>\n",
       "      <th>3</th>\n",
       "      <td>21</td>\n",
       "      <td>CleanAndJerk</td>\n",
       "    </tr>\n",
       "    <tr>\n",
       "      <th>4</th>\n",
       "      <td>22</td>\n",
       "      <td>CliffDiving</td>\n",
       "    </tr>\n",
       "    <tr>\n",
       "      <th>5</th>\n",
       "      <td>23</td>\n",
       "      <td>CricketBowling</td>\n",
       "    </tr>\n",
       "    <tr>\n",
       "      <th>6</th>\n",
       "      <td>24</td>\n",
       "      <td>CricketShot</td>\n",
       "    </tr>\n",
       "    <tr>\n",
       "      <th>7</th>\n",
       "      <td>26</td>\n",
       "      <td>Diving</td>\n",
       "    </tr>\n",
       "    <tr>\n",
       "      <th>8</th>\n",
       "      <td>31</td>\n",
       "      <td>FrisbeeCatch</td>\n",
       "    </tr>\n",
       "    <tr>\n",
       "      <th>9</th>\n",
       "      <td>33</td>\n",
       "      <td>GolfSwing</td>\n",
       "    </tr>\n",
       "    <tr>\n",
       "      <th>10</th>\n",
       "      <td>36</td>\n",
       "      <td>HammerThrow</td>\n",
       "    </tr>\n",
       "    <tr>\n",
       "      <th>11</th>\n",
       "      <td>40</td>\n",
       "      <td>HighJump</td>\n",
       "    </tr>\n",
       "    <tr>\n",
       "      <th>12</th>\n",
       "      <td>45</td>\n",
       "      <td>JavelinThrow</td>\n",
       "    </tr>\n",
       "    <tr>\n",
       "      <th>13</th>\n",
       "      <td>51</td>\n",
       "      <td>LongJump</td>\n",
       "    </tr>\n",
       "    <tr>\n",
       "      <th>14</th>\n",
       "      <td>68</td>\n",
       "      <td>PoleVault</td>\n",
       "    </tr>\n",
       "    <tr>\n",
       "      <th>15</th>\n",
       "      <td>79</td>\n",
       "      <td>Shotput</td>\n",
       "    </tr>\n",
       "    <tr>\n",
       "      <th>16</th>\n",
       "      <td>85</td>\n",
       "      <td>SoccerPenalty</td>\n",
       "    </tr>\n",
       "    <tr>\n",
       "      <th>17</th>\n",
       "      <td>92</td>\n",
       "      <td>TennisSwing</td>\n",
       "    </tr>\n",
       "    <tr>\n",
       "      <th>18</th>\n",
       "      <td>93</td>\n",
       "      <td>ThrowDiscus</td>\n",
       "    </tr>\n",
       "    <tr>\n",
       "      <th>19</th>\n",
       "      <td>97</td>\n",
       "      <td>VolleyballSpiking</td>\n",
       "    </tr>\n",
       "  </tbody>\n",
       "</table>\n",
       "</div>"
      ],
      "text/plain": [
       "     0                  1\n",
       "0    7      BaseballPitch\n",
       "1    9     BasketballDunk\n",
       "2   12          Billiards\n",
       "3   21       CleanAndJerk\n",
       "4   22        CliffDiving\n",
       "5   23     CricketBowling\n",
       "6   24        CricketShot\n",
       "7   26             Diving\n",
       "8   31       FrisbeeCatch\n",
       "9   33          GolfSwing\n",
       "10  36        HammerThrow\n",
       "11  40           HighJump\n",
       "12  45       JavelinThrow\n",
       "13  51           LongJump\n",
       "14  68          PoleVault\n",
       "15  79            Shotput\n",
       "16  85      SoccerPenalty\n",
       "17  92        TennisSwing\n",
       "18  93        ThrowDiscus\n",
       "19  97  VolleyballSpiking"
      ]
     },
     "execution_count": 10,
     "metadata": {},
     "output_type": "execute_result"
    }
   ],
   "source": [
    "df = pd.read_csv(BASE_PATH / \"classes.txt\" , sep=\" \", header=None)\n",
    "df"
   ]
  },
  {
   "cell_type": "markdown",
   "id": "411345c5-9aa8-4dcb-8f90-75e19a91fcd0",
   "metadata": {},
   "source": [
    "### Do labels match in sequence?\n",
    "Col 0 indicates no action.\n",
    "\n",
    "`[1., 0., 0., 0., 0., 0., 0., 0., 0., 0., 0., 0., 0., 0., 0., 0., 0., 0., 0., 0., 0., 0.]`\n",
    "\n",
    "\n",
    "Col 1 is BaseballPitch (see e.g. video_validation_0000683)\n",
    "\n",
    "`[0., 1., 0., 0., 0., 0., 0., 0., 0., 0., 0., 0., 0., 0., 0., 0., 0., 0., 0., 0., 0., 0.]`\n",
    "\n",
    "\n",
    "Col 10 is GolfSwing (see e.g. video_test_0000847)\n",
    "\n",
    "`[0., 0., 0., 0., 0., 0., 0., 0., 0., 0., 1., 0., 0., 0., 0., 0., 0., 0., 0., 0., 0., 0.]`\n",
    "\n",
    "\n",
    "Col 20 is VoleyballSpiking (see e.g. video_validation_0000987)\n",
    "\n",
    "`[0., 0., 0., 0., 0., 0., 0., 0., 0., 0., 0., 0., 0., 0., 0., 0., 0., 0., 0., 0., 1., 0.]`\n",
    "\n",
    "\n",
    "Col 21 is Ambiguous (see e.g video_validation_0000204)\n",
    "\n",
    "`[0., 0., 0., 0., 0., 0., 0., 0., 0., 0., 0., 0., 0., 0., 0., 0., 0., 0., 0., 0., 0., 1.]`"
   ]
  },
  {
   "cell_type": "markdown",
   "id": "12f7fcaf-599c-48ad-9b02-914fadb7790d",
   "metadata": {},
   "source": [
    "### What is the FPS of the annotation?"
   ]
  },
  {
   "cell_type": "code",
   "execution_count": 91,
   "id": "9b05ae15-3267-4b1e-8a93-a1a0d304e05a",
   "metadata": {},
   "outputs": [
    {
     "data": {
      "text/plain": [
       "{'size': '28491265 bits',\n",
       " 'duration': '68.543 seconds',\n",
       " 'frames': '2053 frames',\n",
       " 'frame_rate': '30.0 fps'}"
      ]
     },
     "execution_count": 91,
     "metadata": {},
     "output_type": "execute_result"
    }
   ],
   "source": [
    "# First, let's check the video info\n",
    "vid_path = BASE_PATH / \"data\" / \"val\" / f\"{vid_id}.mp4\"\n",
    "assert vid_path.exists()\n",
    "\n",
    "container = av.open(str(vid_path))\n",
    "video_stream = container.streams.video[0]\n",
    "\n",
    "{\n",
    "    \"size\": f\"{container.size} bits\", \n",
    "    \"duration\": f\"{container.duration / 1e6} seconds\",\n",
    "    \"frames\": f\"{video_stream.frames} frames\",\n",
    "    \"frame_rate\": f\"{float(video_stream.base_rate)} fps\",\n",
    "}"
   ]
  },
  {
   "cell_type": "code",
   "execution_count": 93,
   "id": "5c51209f-4a55-41f3-9db0-53abb558d15d",
   "metadata": {},
   "outputs": [
    {
     "data": {
      "text/plain": [
       "(4.989568591978758, 4.997564539698003)"
      ]
     },
     "execution_count": 93,
     "metadata": {},
     "output_type": "execute_result"
    }
   ],
   "source": [
    "# Annotation frame rate, computed two ways\n",
    "num_annot_frames = len(ds[vid_id]['anno'])\n",
    "(\n",
    "    num_annot_frames / (container.duration / 1e6),\n",
    "    float(video_stream.base_rate) * num_annot_frames / video_stream.frames\n",
    ")"
   ]
  },
  {
   "cell_type": "code",
   "execution_count": 94,
   "id": "2e90d79f-92ac-4637-a9d1-cb9b0aef115a",
   "metadata": {},
   "outputs": [
    {
     "data": {
      "text/plain": [
       "0.16658548465660009"
      ]
     },
     "execution_count": 94,
     "metadata": {},
     "output_type": "execute_result"
    }
   ],
   "source": [
    "# Reduction factor:\n",
    "num_annot_frames / video_stream.frames"
   ]
  },
  {
   "cell_type": "markdown",
   "id": "1d6d7b6c-211f-4f34-bee0-04fca7c18a1f",
   "metadata": {},
   "source": [
    "### Precomputed features from OadTR"
   ]
  },
  {
   "cell_type": "code",
   "execution_count": 5,
   "id": "64d72bf7-1744-4ec7-9859-c2b843325ff3",
   "metadata": {},
   "outputs": [],
   "source": [
    "feat_path = BASE_PATH / \"thumos_all_feature_val_tsn_v2.pickle\"\n",
    "assert feat_path.exists()\n",
    "\n",
    "with open(feat_path, 'rb') as f:\n",
    "    feat = pickle.load(f)"
   ]
  },
  {
   "cell_type": "code",
   "execution_count": 15,
   "id": "ec38eedf-fd3c-40b7-8e07-3317a44cb2a4",
   "metadata": {},
   "outputs": [
    {
     "data": {
      "text/plain": [
       "(1401, 2048)"
      ]
     },
     "execution_count": 15,
     "metadata": {},
     "output_type": "execute_result"
    }
   ],
   "source": [
    "feat['video_validation_0000690']['rgb'].shape"
   ]
  },
  {
   "cell_type": "code",
   "execution_count": 8,
   "id": "2f391601-b956-44c4-9fad-100df11c224d",
   "metadata": {},
   "outputs": [
    {
     "data": {
      "text/plain": [
       "(1401, 1024)"
      ]
     },
     "execution_count": 8,
     "metadata": {},
     "output_type": "execute_result"
    }
   ],
   "source": [
    "feat['video_validation_0000690']['flow'].shape"
   ]
  },
  {
   "cell_type": "code",
   "execution_count": 11,
   "id": "1fc5c581-5ca5-4397-ab40-1861014de79c",
   "metadata": {},
   "outputs": [
    {
     "data": {
      "text/plain": [
       "(559, 2048)"
      ]
     },
     "execution_count": 11,
     "metadata": {},
     "output_type": "execute_result"
    }
   ],
   "source": [
    "feat['video_validation_0000288']['rgb'].shape"
   ]
  },
  {
   "cell_type": "code",
   "execution_count": 12,
   "id": "92378343-c969-43b0-b054-6f99f19c2d35",
   "metadata": {},
   "outputs": [
    {
     "data": {
      "text/plain": [
       "(559, 1024)"
      ]
     },
     "execution_count": 12,
     "metadata": {},
     "output_type": "execute_result"
    }
   ],
   "source": [
    "feat['video_validation_0000288']['flow'].shape"
   ]
  },
  {
   "cell_type": "markdown",
   "id": "1304436f-15f4-4383-84b7-5881b6c15dc3",
   "metadata": {},
   "source": [
    "It looks like the precomputed features allow different feature lengths\n",
    "\n",
    "# Dataloader"
   ]
  },
  {
   "cell_type": "code",
   "execution_count": 1,
   "id": "e141b487-cd66-40dc-96ea-c5ffcd4d277c",
   "metadata": {},
   "outputs": [
    {
     "name": "stderr",
     "output_type": "stream",
     "text": [
      "/home/lh/.local/lib/python3.8/site-packages/torchvision/transforms/_functional_video.py:5: UserWarning: The _functional_video module is deprecated. Please use the functional module instead.\n",
      "  warnings.warn(\n",
      "/home/lh/.local/lib/python3.8/site-packages/torchvision/transforms/_transforms_video.py:25: UserWarning: The _transforms_video module is deprecated. Please use the transforms module instead.\n",
      "  warnings.warn(\n"
     ]
    }
   ],
   "source": [
    "from datasets.thumos14 import Thumos14\n",
    "from pathlib import Path"
   ]
  },
  {
   "cell_type": "code",
   "execution_count": 2,
   "id": "8f714383-23a0-48f6-a6df-2dd994752742",
   "metadata": {},
   "outputs": [
    {
     "name": "stderr",
     "output_type": "stream",
     "text": [
      "\u001b[35m\u001b[1mdatasets\u001b[0m: Using validation set for training as is customary for THUMOS14.\n"
     ]
    }
   ],
   "source": [
    "ds = Thumos14(\n",
    "        Path(\"/mnt/archive/common/datasets/thumos14/\"),\n",
    "        \"/mnt/archive/common/datasets/thumos14/splits/\",\n",
    "        10,\n",
    "    )"
   ]
  },
  {
   "cell_type": "code",
   "execution_count": 3,
   "id": "b206cd81-b3ae-4503-be57-13ec07c350a6",
   "metadata": {},
   "outputs": [
    {
     "ename": "ValueError",
     "evalue": "read of closed file",
     "output_type": "error",
     "traceback": [
      "\u001b[0;31m---------------------------------------------------------------------------\u001b[0m",
      "\u001b[0;31mValueError\u001b[0m                                Traceback (most recent call last)",
      "\u001b[0;32m<ipython-input-3-405b8f1e5057>\u001b[0m in \u001b[0;36m<module>\u001b[0;34m\u001b[0m\n\u001b[0;32m----> 1\u001b[0;31m \u001b[0mdata\u001b[0m \u001b[0;34m=\u001b[0m \u001b[0mds\u001b[0m\u001b[0;34m[\u001b[0m\u001b[0;36m0\u001b[0m\u001b[0;34m]\u001b[0m\u001b[0;34m\u001b[0m\u001b[0;34m\u001b[0m\u001b[0m\n\u001b[0m",
      "\u001b[0;32m~/projects/co3d/datasets/thumos14.py\u001b[0m in \u001b[0;36m__getitem__\u001b[0;34m(self, index)\u001b[0m\n\u001b[1;32m    179\u001b[0m             \u001b[0mvideo_path\u001b[0m \u001b[0;34m=\u001b[0m \u001b[0mself\u001b[0m\u001b[0;34m.\u001b[0m\u001b[0mdata_path\u001b[0m \u001b[0;34m/\u001b[0m \u001b[0;34m(\u001b[0m\u001b[0mvideo_id\u001b[0m \u001b[0;34m+\u001b[0m \u001b[0;34m\".mp4\"\u001b[0m\u001b[0;34m)\u001b[0m\u001b[0;34m\u001b[0m\u001b[0;34m\u001b[0m\u001b[0m\n\u001b[1;32m    180\u001b[0m \u001b[0;34m\u001b[0m\u001b[0m\n\u001b[0;32m--> 181\u001b[0;31m             video = decode_video(\n\u001b[0m\u001b[1;32m    182\u001b[0m                 \u001b[0mvideo_path\u001b[0m\u001b[0;34m,\u001b[0m\u001b[0;34m\u001b[0m\u001b[0;34m\u001b[0m\u001b[0m\n\u001b[1;32m    183\u001b[0m                 \u001b[0mstart_idx\u001b[0m\u001b[0;34m,\u001b[0m\u001b[0;34m\u001b[0m\u001b[0;34m\u001b[0m\u001b[0m\n",
      "\u001b[0;32m~/projects/co3d/datasets/thumos14.py\u001b[0m in \u001b[0;36mdecode_video\u001b[0;34m(video_path, start_idx, end_idx, target_fps)\u001b[0m\n\u001b[1;32m    243\u001b[0m         \u001b[0mvideo_end_pts\u001b[0m \u001b[0;34m=\u001b[0m \u001b[0mint\u001b[0m\u001b[0;34m(\u001b[0m\u001b[0mend_idx\u001b[0m \u001b[0;34m*\u001b[0m \u001b[0mtimebase\u001b[0m\u001b[0;34m)\u001b[0m\u001b[0;34m\u001b[0m\u001b[0;34m\u001b[0m\u001b[0m\n\u001b[1;32m    244\u001b[0m \u001b[0;34m\u001b[0m\u001b[0m\n\u001b[0;32m--> 245\u001b[0;31m     frames, _ = pyav_decode_stream(\n\u001b[0m\u001b[1;32m    246\u001b[0m         \u001b[0mcontainer\u001b[0m\u001b[0;34m,\u001b[0m \u001b[0mvideo_start_pts\u001b[0m\u001b[0;34m,\u001b[0m \u001b[0mvideo_end_pts\u001b[0m\u001b[0;34m,\u001b[0m \u001b[0mvideo_stream\u001b[0m\u001b[0;34m\u001b[0m\u001b[0;34m\u001b[0m\u001b[0m\n\u001b[1;32m    247\u001b[0m     )\n",
      "\u001b[0;32m~/projects/co3d/datasets/decoder.py\u001b[0m in \u001b[0;36mpyav_decode_stream\u001b[0;34m(container, start_pts, end_pts, stream, stream_name, buffer_size)\u001b[0m\n\u001b[1;32m    117\u001b[0m     \u001b[0mbuffer_count\u001b[0m \u001b[0;34m=\u001b[0m \u001b[0;36m0\u001b[0m\u001b[0;34m\u001b[0m\u001b[0;34m\u001b[0m\u001b[0m\n\u001b[1;32m    118\u001b[0m     \u001b[0mmax_pts\u001b[0m \u001b[0;34m=\u001b[0m \u001b[0;36m0\u001b[0m\u001b[0;34m\u001b[0m\u001b[0;34m\u001b[0m\u001b[0m\n\u001b[0;32m--> 119\u001b[0;31m     \u001b[0;32mfor\u001b[0m \u001b[0mframe\u001b[0m \u001b[0;32min\u001b[0m \u001b[0mcontainer\u001b[0m\u001b[0;34m.\u001b[0m\u001b[0mdecode\u001b[0m\u001b[0;34m(\u001b[0m\u001b[0;34m**\u001b[0m\u001b[0mstream_name\u001b[0m\u001b[0;34m)\u001b[0m\u001b[0;34m:\u001b[0m\u001b[0;34m\u001b[0m\u001b[0;34m\u001b[0m\u001b[0m\n\u001b[0m\u001b[1;32m    120\u001b[0m         \u001b[0mmax_pts\u001b[0m \u001b[0;34m=\u001b[0m \u001b[0mmax\u001b[0m\u001b[0;34m(\u001b[0m\u001b[0mmax_pts\u001b[0m\u001b[0;34m,\u001b[0m \u001b[0mframe\u001b[0m\u001b[0;34m.\u001b[0m\u001b[0mpts\u001b[0m\u001b[0;34m)\u001b[0m\u001b[0;34m\u001b[0m\u001b[0;34m\u001b[0m\u001b[0m\n\u001b[1;32m    121\u001b[0m         \u001b[0;32mif\u001b[0m \u001b[0mframe\u001b[0m\u001b[0;34m.\u001b[0m\u001b[0mpts\u001b[0m \u001b[0;34m<\u001b[0m \u001b[0mstart_pts\u001b[0m\u001b[0;34m:\u001b[0m\u001b[0;34m\u001b[0m\u001b[0;34m\u001b[0m\u001b[0m\n",
      "\u001b[0;32mav/container/input.pyx\u001b[0m in \u001b[0;36mdecode\u001b[0;34m()\u001b[0m\n",
      "\u001b[0;32mav/container/input.pyx\u001b[0m in \u001b[0;36mdemux\u001b[0;34m()\u001b[0m\n",
      "\u001b[0;32mav/container/core.pyx\u001b[0m in \u001b[0;36mav.container.core.Container.err_check\u001b[0;34m()\u001b[0m\n",
      "\u001b[0;32mav/error.pyx\u001b[0m in \u001b[0;36mav.error.err_check\u001b[0;34m()\u001b[0m\n",
      "\u001b[0;32mav/container/pyio.pyx\u001b[0m in \u001b[0;36mav.container.pyio.pyio_read_gil\u001b[0;34m()\u001b[0m\n",
      "\u001b[0;31mValueError\u001b[0m: read of closed file"
     ]
    }
   ],
   "source": [
    "data = ds[0]"
   ]
  },
  {
   "cell_type": "code",
   "execution_count": null,
   "id": "5e980cd2-8fc3-4f41-821a-c7a7e2afd81a",
   "metadata": {},
   "outputs": [],
   "source": []
  }
 ],
 "metadata": {
  "kernelspec": {
   "display_name": "Python 3",
   "language": "python",
   "name": "python3"
  },
  "language_info": {
   "codemirror_mode": {
    "name": "ipython",
    "version": 3
   },
   "file_extension": ".py",
   "mimetype": "text/x-python",
   "name": "python",
   "nbconvert_exporter": "python",
   "pygments_lexer": "ipython3",
   "version": "3.8.8"
  }
 },
 "nbformat": 4,
 "nbformat_minor": 5
}
