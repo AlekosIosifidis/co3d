{
 "cells": [
  {
   "cell_type": "markdown",
   "id": "c15e7ec9-c6f4-4cac-ab8d-0c5457d030ec",
   "metadata": {},
   "source": [
    "# Thumos Feature Extraction"
   ]
  },
  {
   "cell_type": "code",
   "execution_count": 1,
   "id": "62bcb30d-b74c-4c06-a138-01ca9e716321",
   "metadata": {},
   "outputs": [],
   "source": [
    "import torch\n",
    "import math\n",
    "from pathlib import Path"
   ]
  },
  {
   "cell_type": "code",
   "execution_count": 2,
   "id": "7f70f8e2-04b8-4a09-9659-479724c7dcf9",
   "metadata": {
    "tags": []
   },
   "outputs": [
    {
     "name": "stderr",
     "output_type": "stream",
     "text": [
      "/home/lh/.local/lib/python3.8/site-packages/horovod/common/util.py:258: UserWarning: Framework pytorch installed with version 1.9.0+cu102 but found version 1.9.1+cu102.\n",
      "             This can result in unexpected behavior including runtime errors.\n",
      "             Reinstall Horovod using `pip install --no-cache-dir` to build with the new version.\n",
      "  warnings.warn(get_version_mismatch_message(name, version, installed_version))\n"
     ]
    }
   ],
   "source": [
    "from models.cox3d.modules.x3d import CoX3D\n",
    "\n",
    "num_classes = 22\n",
    "dim_in=3\n",
    "temporal_window_size=1\n",
    "\n",
    "# Define hparams\n",
    "# # s\n",
    "# image_size=160\n",
    "# x3d_conv1_dim = 12\n",
    "# x3d_conv5_dim = 2048\n",
    "# x3d_num_groups = 1\n",
    "# x3d_width_per_group = 64\n",
    "# x3d_width_factor = 2.0\n",
    "# x3d_depth_factor = 2.2\n",
    "# x3d_bottleneck_factor = 2.25\n",
    "# x3d_use_channelwise_3x3x3 = 1\n",
    "# x3d_dropout_rate = 0.5\n",
    "# x3d_head_activation = \"softmax\"\n",
    "# x3d_head_batchnorm = 0\n",
    "# x3d_fc_std_init = 0.01\n",
    "# x3d_final_batchnorm_zero_init = 1\n",
    "\n",
    "# # m\n",
    "# image_size = 224\n",
    "# x3d_num_groups = 1\n",
    "# x3d_width_per_group = 64\n",
    "# x3d_width_factor = 2.0\n",
    "# x3d_depth_factor = 2.2\n",
    "# x3d_bottleneck_factor = 2.25\n",
    "# x3d_conv1_dim = 12\n",
    "# x3d_conv5_dim = 2048\n",
    "# x3d_use_channelwise_3x3x3 = 1\n",
    "# x3d_dropout_rate = 0.5\n",
    "# x3d_head_activation = \"softmax\"\n",
    "# x3d_head_batchnorm = 0\n",
    "# x3d_fc_std_init = 0.01\n",
    "# x3d_final_batchnorm_zero_init = 1\n",
    "\n",
    "# l\n",
    "image_size = 312\n",
    "x3d_num_groups = 1\n",
    "x3d_width_per_group = 64\n",
    "x3d_width_factor = 2.0\n",
    "x3d_depth_factor = 5.0\n",
    "x3d_bottleneck_factor = 2.25\n",
    "x3d_conv1_dim = 12\n",
    "x3d_conv5_dim = 2048\n",
    "x3d_use_channelwise_3x3x3 = 1\n",
    "x3d_dropout_rate = 0.5\n",
    "x3d_head_activation = \"softmax\"\n",
    "x3d_head_batchnorm = 0\n",
    "x3d_fc_std_init = 0.01\n",
    "x3d_final_batchnorm_zero_init = 1\n",
    "\n",
    "# Define model\n",
    "module = CoX3D(\n",
    "    dim_in,\n",
    "    image_size,\n",
    "    temporal_window_size,\n",
    "    num_classes,\n",
    "    x3d_conv1_dim,\n",
    "    x3d_conv5_dim,\n",
    "    x3d_num_groups,\n",
    "    x3d_width_per_group,\n",
    "    x3d_width_factor,\n",
    "    x3d_depth_factor,\n",
    "    x3d_bottleneck_factor,\n",
    "    x3d_use_channelwise_3x3x3,\n",
    "    x3d_dropout_rate,\n",
    "    x3d_head_activation,\n",
    "    x3d_head_batchnorm,\n",
    "    x3d_fc_std_init,\n",
    "    x3d_final_batchnorm_zero_init,\n",
    "    temporal_fill=\"zeros\",\n",
    "    se_scope=\"frame\",\n",
    "    headless=True\n",
    ")\n",
    "module.call_mode = \"forward_steps\""
   ]
  },
  {
   "cell_type": "code",
   "execution_count": 4,
   "id": "8c08c4fd-4c9e-4d75-8640-9a5abf1c0b07",
   "metadata": {},
   "outputs": [
    {
     "data": {
      "text/plain": [
       "<All keys matched successfully>"
      ]
     },
     "execution_count": 4,
     "metadata": {},
     "output_type": "execute_result"
    }
   ],
   "source": [
    "# Load weights\n",
    "new_model_state = module.state_dict(flatten=True)\n",
    "state_dict = torch.load(\"/home/lh/projects/co3d/models/x3d/weights/x3d_l.pyth\", map_location=\"cpu\")[\"model_state\"]\n",
    "\n",
    "def key_ok(k):\n",
    "    return (\n",
    "        k in new_model_state\n",
    "        and k in state_dict\n",
    "    )\n",
    "\n",
    "def size_ok(k):\n",
    "    return new_model_state[k].size() == state_dict[k].size()\n",
    "\n",
    "to_load = {k: v for k, v in state_dict.items() if key_ok(k) and size_ok(k)}\n",
    "\n",
    "module.load_state_dict(to_load, flatten=True, strict=False)"
   ]
  },
  {
   "cell_type": "code",
   "execution_count": 14,
   "id": "25c04432-b875-4481-81bd-17b1f22303da",
   "metadata": {},
   "outputs": [],
   "source": [
    "# Prepare transforms\n",
    "from torchvision.transforms import Compose\n",
    "from torchvision.transforms._transforms_video import (\n",
    "    CenterCropVideo,\n",
    "    NormalizeVideo,\n",
    "    ToTensorVideo,\n",
    ")\n",
    "from datasets.transforms import RandomShortSideScaleJitterVideo\n",
    "\n",
    "\n",
    "MEAN, STD = ((0.45, 0.45, 0.45), (0.225, 0.225, 0.225))\n",
    "# train_crop_pix, train_scale_pix_min, train_scale_pix_max = (140.0, 160, 200.0)\n",
    "# train_transforms = Compose(\n",
    "#     [\n",
    "#         ToTensorVideo(),\n",
    "#         RandomShortSideScaleJitterVideo(\n",
    "#             min_size=train_scale_pix_min, max_size=train_scale_pix_max\n",
    "#         ),\n",
    "#         CenterCropVideo(image_size),\n",
    "#         NormalizeVideo(mean=MEAN, std=STD),\n",
    "#     ]\n",
    "# )\n",
    "\n",
    "eval_transforms = Compose(\n",
    "    [\n",
    "        ToTensorVideo(),\n",
    "        RandomShortSideScaleJitterVideo(min_size=image_size, max_size=image_size),\n",
    "        CenterCropVideo(image_size),\n",
    "        NormalizeVideo(mean=MEAN, std=STD),\n",
    "    ]\n",
    ")\n",
    "\n",
    "# video_transform = video_transform\n",
    "\n",
    "\n",
    "# Identify videos\n",
    "split=\"test\"\n",
    "\n",
    "ds_path = Path(f\"/home/lh/datasets/thumos14/data/{split}\")\n",
    "vid_paths = list(ds_path.glob('*.mp4'))\n",
    "\n",
    "target_fps = 5.0"
   ]
  },
  {
   "cell_type": "code",
   "execution_count": 7,
   "id": "07f9ab10-f818-403c-9b86-eecda49c06f3",
   "metadata": {},
   "outputs": [],
   "source": [
    "anno = {\"train_session_set\": [\"video_validation_0000690\", \"video_validation_0000288\", \"video_validation_0000289\", \"video_validation_0000416\", \"video_validation_0000282\", \"video_validation_0000283\", \"video_validation_0000281\", \"video_validation_0000286\", \"video_validation_0000287\", \"video_validation_0000284\", \"video_validation_0000285\", \"video_validation_0000202\", \"video_validation_0000203\", \"video_validation_0000201\", \"video_validation_0000206\", \"video_validation_0000207\", \"video_validation_0000204\", \"video_validation_0000205\", \"video_validation_0000790\", \"video_validation_0000208\", \"video_validation_0000209\", \"video_validation_0000420\", \"video_validation_0000364\", \"video_validation_0000853\", \"video_validation_0000950\", \"video_validation_0000937\", \"video_validation_0000367\", \"video_validation_0000290\", \"video_validation_0000210\", \"video_validation_0000059\", \"video_validation_0000058\", \"video_validation_0000057\", \"video_validation_0000056\", \"video_validation_0000055\", \"video_validation_0000054\", \"video_validation_0000053\", \"video_validation_0000052\", \"video_validation_0000051\", \"video_validation_0000933\", \"video_validation_0000949\", \"video_validation_0000948\", \"video_validation_0000945\", \"video_validation_0000944\", \"video_validation_0000947\", \"video_validation_0000946\", \"video_validation_0000941\", \"video_validation_0000940\", \"video_validation_0000190\", \"video_validation_0000942\", \"video_validation_0000261\", \"video_validation_0000262\", \"video_validation_0000263\", \"video_validation_0000264\", \"video_validation_0000265\", \"video_validation_0000266\", \"video_validation_0000267\", \"video_validation_0000268\", \"video_validation_0000269\", \"video_validation_0000989\", \"video_validation_0000060\", \"video_validation_0000370\", \"video_validation_0000938\", \"video_validation_0000935\", \"video_validation_0000668\", \"video_validation_0000669\", \"video_validation_0000664\", \"video_validation_0000665\", \"video_validation_0000932\", \"video_validation_0000667\", \"video_validation_0000934\", \"video_validation_0000661\", \"video_validation_0000662\", \"video_validation_0000663\", \"video_validation_0000181\", \"video_validation_0000180\", \"video_validation_0000183\", \"video_validation_0000182\", \"video_validation_0000185\", \"video_validation_0000184\", \"video_validation_0000187\", \"video_validation_0000186\", \"video_validation_0000189\", \"video_validation_0000188\", \"video_validation_0000936\", \"video_validation_0000270\", \"video_validation_0000854\", \"video_validation_0000178\", \"video_validation_0000179\", \"video_validation_0000174\", \"video_validation_0000175\", \"video_validation_0000176\", \"video_validation_0000177\", \"video_validation_0000170\", \"video_validation_0000171\", \"video_validation_0000172\", \"video_validation_0000173\", \"video_validation_0000670\", \"video_validation_0000419\", \"video_validation_0000943\", \"video_validation_0000485\", \"video_validation_0000369\", \"video_validation_0000368\", \"video_validation_0000318\", \"video_validation_0000319\", \"video_validation_0000415\", \"video_validation_0000414\", \"video_validation_0000413\", \"video_validation_0000412\", \"video_validation_0000411\", \"video_validation_0000311\", \"video_validation_0000312\", \"video_validation_0000313\", \"video_validation_0000314\", \"video_validation_0000315\", \"video_validation_0000316\", \"video_validation_0000317\", \"video_validation_0000418\", \"video_validation_0000365\", \"video_validation_0000482\", \"video_validation_0000169\", \"video_validation_0000168\", \"video_validation_0000167\", \"video_validation_0000166\", \"video_validation_0000165\", \"video_validation_0000164\", \"video_validation_0000163\", \"video_validation_0000162\", \"video_validation_0000161\", \"video_validation_0000160\", \"video_validation_0000857\", \"video_validation_0000856\", \"video_validation_0000855\", \"video_validation_0000366\", \"video_validation_0000488\", \"video_validation_0000489\", \"video_validation_0000851\", \"video_validation_0000484\", \"video_validation_0000361\", \"video_validation_0000486\", \"video_validation_0000487\", \"video_validation_0000481\", \"video_validation_0000910\", \"video_validation_0000483\", \"video_validation_0000363\", \"video_validation_0000990\", \"video_validation_0000939\", \"video_validation_0000362\", \"video_validation_0000987\", \"video_validation_0000859\", \"video_validation_0000787\", \"video_validation_0000786\", \"video_validation_0000785\", \"video_validation_0000784\", \"video_validation_0000783\", \"video_validation_0000782\", \"video_validation_0000781\", \"video_validation_0000981\", \"video_validation_0000983\", \"video_validation_0000982\", \"video_validation_0000985\", \"video_validation_0000984\", \"video_validation_0000417\", \"video_validation_0000788\", \"video_validation_0000152\", \"video_validation_0000153\", \"video_validation_0000151\", \"video_validation_0000156\", \"video_validation_0000157\", \"video_validation_0000154\", \"video_validation_0000155\", \"video_validation_0000158\", \"video_validation_0000159\", \"video_validation_0000901\", \"video_validation_0000903\", \"video_validation_0000902\", \"video_validation_0000905\", \"video_validation_0000904\", \"video_validation_0000907\", \"video_validation_0000906\", \"video_validation_0000909\", \"video_validation_0000908\", \"video_validation_0000490\", \"video_validation_0000860\", \"video_validation_0000858\", \"video_validation_0000988\", \"video_validation_0000320\", \"video_validation_0000688\", \"video_validation_0000689\", \"video_validation_0000686\", \"video_validation_0000687\", \"video_validation_0000684\", \"video_validation_0000685\", \"video_validation_0000682\", \"video_validation_0000683\", \"video_validation_0000681\", \"video_validation_0000789\", \"video_validation_0000986\", \"video_validation_0000931\", \"video_validation_0000852\", \"video_validation_0000666\"], \"test_session_set\": [\"video_test_0000292\", \"video_test_0001078\", \"video_test_0000896\", \"video_test_0000897\", \"video_test_0000950\", \"video_test_0001159\", \"video_test_0001079\", \"video_test_0000807\", \"video_test_0000179\", \"video_test_0000173\", \"video_test_0001072\", \"video_test_0001075\", \"video_test_0000767\", \"video_test_0001076\", \"video_test_0000007\", \"video_test_0000006\", \"video_test_0000556\", \"video_test_0001307\", \"video_test_0001153\", \"video_test_0000718\", \"video_test_0000716\", \"video_test_0001309\", \"video_test_0000714\", \"video_test_0000558\", \"video_test_0001267\", \"video_test_0000367\", \"video_test_0001324\", \"video_test_0000085\", \"video_test_0000887\", \"video_test_0001281\", \"video_test_0000882\", \"video_test_0000671\", \"video_test_0000964\", \"video_test_0001164\", \"video_test_0001114\", \"video_test_0000771\", \"video_test_0001163\", \"video_test_0001118\", \"video_test_0001201\", \"video_test_0001040\", \"video_test_0001207\", \"video_test_0000723\", \"video_test_0000569\", \"video_test_0000672\", \"video_test_0000673\", \"video_test_0000278\", \"video_test_0001162\", \"video_test_0000405\", \"video_test_0000073\", \"video_test_0000560\", \"video_test_0001276\", \"video_test_0000270\", \"video_test_0000273\", \"video_test_0000374\", \"video_test_0000372\", \"video_test_0001168\", \"video_test_0000379\", \"video_test_0001446\", \"video_test_0001447\", \"video_test_0001098\", \"video_test_0000873\", \"video_test_0000039\", \"video_test_0000442\", \"video_test_0001219\", \"video_test_0000762\", \"video_test_0000611\", \"video_test_0000617\", \"video_test_0000615\", \"video_test_0001270\", \"video_test_0000740\", \"video_test_0000293\", \"video_test_0000504\", \"video_test_0000505\", \"video_test_0000665\", \"video_test_0000664\", \"video_test_0000577\", \"video_test_0000814\", \"video_test_0001369\", \"video_test_0001194\", \"video_test_0001195\", \"video_test_0001512\", \"video_test_0001235\", \"video_test_0001459\", \"video_test_0000691\", \"video_test_0000765\", \"video_test_0001452\", \"video_test_0000188\", \"video_test_0000591\", \"video_test_0001268\", \"video_test_0000593\", \"video_test_0000864\", \"video_test_0000601\", \"video_test_0001135\", \"video_test_0000004\", \"video_test_0000903\", \"video_test_0000285\", \"video_test_0001174\", \"video_test_0000046\", \"video_test_0000045\", \"video_test_0001223\", \"video_test_0001358\", \"video_test_0001134\", \"video_test_0000698\", \"video_test_0000461\", \"video_test_0001182\", \"video_test_0000450\", \"video_test_0000602\", \"video_test_0001229\", \"video_test_0000989\", \"video_test_0000357\", \"video_test_0001039\", \"video_test_0000355\", \"video_test_0000353\", \"video_test_0001508\", \"video_test_0000981\", \"video_test_0000242\", \"video_test_0000854\", \"video_test_0001484\", \"video_test_0000635\", \"video_test_0001129\", \"video_test_0001339\", \"video_test_0001483\", \"video_test_0001123\", \"video_test_0001127\", \"video_test_0000689\", \"video_test_0000756\", \"video_test_0001431\", \"video_test_0000129\", \"video_test_0001433\", \"video_test_0001343\", \"video_test_0000324\", \"video_test_0001064\", \"video_test_0001531\", \"video_test_0001532\", \"video_test_0000413\", \"video_test_0000991\", \"video_test_0001255\", \"video_test_0000464\", \"video_test_0001202\", \"video_test_0001080\", \"video_test_0001081\", \"video_test_0000847\", \"video_test_0000028\", \"video_test_0000844\", \"video_test_0000622\", \"video_test_0000026\", \"video_test_0001325\", \"video_test_0001496\", \"video_test_0001495\", \"video_test_0000624\", \"video_test_0000724\", \"video_test_0001409\", \"video_test_0000131\", \"video_test_0000448\", \"video_test_0000444\", \"video_test_0000443\", \"video_test_0001038\", \"video_test_0000238\", \"video_test_0001527\", \"video_test_0001522\", \"video_test_0000051\", \"video_test_0001058\", \"video_test_0001391\", \"video_test_0000429\", \"video_test_0000426\", \"video_test_0000785\", \"video_test_0000786\", \"video_test_0001314\", \"video_test_0000392\", \"video_test_0000423\", \"video_test_0001146\", \"video_test_0001313\", \"video_test_0001008\", \"video_test_0001247\", \"video_test_0000737\", \"video_test_0001319\", \"video_test_0000308\", \"video_test_0000730\", \"video_test_0000058\", \"video_test_0000538\", \"video_test_0001556\", \"video_test_0000113\", \"video_test_0000626\", \"video_test_0000839\", \"video_test_0000220\", \"video_test_0001389\", \"video_test_0000437\", \"video_test_0000940\", \"video_test_0000211\", \"video_test_0000946\", \"video_test_0001558\", \"video_test_0000796\", \"video_test_0000062\", \"video_test_0000793\", \"video_test_0000987\", \"video_test_0001066\", \"video_test_0000412\", \"video_test_0000798\", \"video_test_0001549\", \"video_test_0000011\", \"video_test_0001257\", \"video_test_0000541\", \"video_test_0000701\", \"video_test_0000250\", \"video_test_0000254\", \"video_test_0000549\", \"video_test_0001209\", \"video_test_0001463\", \"video_test_0001460\", \"video_test_0000319\", \"video_test_0001468\", \"video_test_0000846\", \"video_test_0001292\"]}"
   ]
  },
  {
   "cell_type": "code",
   "execution_count": 15,
   "id": "8d74d047-3b08-4729-9a5a-d6db59ec7946",
   "metadata": {
    "tags": []
   },
   "outputs": [],
   "source": [
    "vid_paths = [\n",
    "    Path(f'/home/lh/datasets/thumos14/data/test/{vid}.mp4') for vid in anno[\"test_session_set\"]\n",
    "]"
   ]
  },
  {
   "cell_type": "code",
   "execution_count": 17,
   "id": "4d39a2af-b027-42eb-896c-0c956a8fbb52",
   "metadata": {},
   "outputs": [
    {
     "name": "stderr",
     "output_type": "stream",
     "text": [
      "100%|██████████| 213/213 [1:49:50<00:00, 30.94s/it]  \n"
     ]
    }
   ],
   "source": [
    "from datasets.thumos14 import decode_video\n",
    "from tqdm import tqdm\n",
    "import pickle\n",
    "\n",
    "device = torch.device(\"cuda:0\")\n",
    "module = module.to(device=device)\n",
    "module.eval()\n",
    "block_size = 256\n",
    "\n",
    "features = {}\n",
    "\n",
    "with torch.no_grad():\n",
    "    \n",
    "    # Iterate through dataset, extracting features meanwhile\n",
    "    for p in tqdm(vid_paths):\n",
    "        video = decode_video(str(p), 0, -1, target_fps)\n",
    "\n",
    "        if video is None:\n",
    "            print(f\"Error decoding {p}\")\n",
    "            continue\n",
    "\n",
    "        video = video\n",
    "        video = eval_transforms(video).unsqueeze(0)\n",
    "\n",
    "        # Warm up module\n",
    "        module.clean_state()\n",
    "        module.warm_up(video.shape[:2] + video.shape[3:])\n",
    "\n",
    "        T = video.shape[2]\n",
    "\n",
    "        # Save in blocks\n",
    "        feat = []\n",
    "        for start in range(0, T, block_size):\n",
    "            end = min(T, start + block_size)\n",
    "            \n",
    "            f = module.forward_steps(\n",
    "                video[:,:,start:end].to(device=device)\n",
    "            )\n",
    "            if isinstance(f, torch.Tensor):\n",
    "                feat.append(f.detach().to(device=torch.device(\"cpu\")))\n",
    "\n",
    "        if len(feat) > 0:\n",
    "            features[p.stem] = torch.cat(feat, dim=2)\n",
    "\n",
    "\n",
    "# Save features\n",
    "with open(f\"cox3d_l_kin_features_{split}.pickle\", \"wb\") as f:\n",
    "    pickle.dump(features, f)"
   ]
  },
  {
   "cell_type": "code",
   "execution_count": 20,
   "id": "d7f963d7-902b-4d8b-8038-97daa334e5be",
   "metadata": {},
   "outputs": [],
   "source": [
    "p = Path(\"/home/lh/datasets/thumos14/data/val/video_validation_0000266.mp4\")\n",
    "\n",
    "with torch.no_grad():\n",
    "    video = decode_video(str(p), 0, -1, target_fps)\n",
    "\n",
    "    if video is None:\n",
    "        print(f\"Error decoding {p}\")\n",
    "\n",
    "    video = video\n",
    "    video = eval_transforms(video).unsqueeze(0)\n",
    "\n",
    "    # Warm up module\n",
    "    module.clean_state()\n",
    "    module.warm_up(video.shape[:2] + video.shape[3:])\n",
    "\n",
    "    T = video.shape[2]\n",
    "\n",
    "    # Save in blocks\n",
    "    feat = []\n",
    "    for start in range(0, T, block_size):\n",
    "        end = min(T, start + block_size)\n",
    "\n",
    "        f = module.forward_steps(\n",
    "            video[:,:,start:end].to(device=device)\n",
    "        )\n",
    "        if isinstance(f, torch.Tensor):\n",
    "            feat.append(f.detach().to(device=torch.device(\"cpu\")))"
   ]
  },
  {
   "cell_type": "code",
   "execution_count": 21,
   "id": "3a9db43b-132b-4e77-a750-d05abacbdbc2",
   "metadata": {},
   "outputs": [],
   "source": [
    "feats = torch.cat(feat, dim=2)"
   ]
  },
  {
   "cell_type": "code",
   "execution_count": 22,
   "id": "62933b95-ad83-459c-a69c-43251102d0e4",
   "metadata": {},
   "outputs": [
    {
     "data": {
      "text/plain": [
       "torch.Size([1, 192, 858, 5, 5])"
      ]
     },
     "execution_count": 22,
     "metadata": {},
     "output_type": "execute_result"
    }
   ],
   "source": [
    "feats.shape"
   ]
  },
  {
   "cell_type": "code",
   "execution_count": 23,
   "id": "8a787264-3524-40bf-86af-fcad1313d274",
   "metadata": {},
   "outputs": [
    {
     "data": {
      "text/plain": [
       "torch.Size([1, 3, 858, 160, 160])"
      ]
     },
     "execution_count": 23,
     "metadata": {},
     "output_type": "execute_result"
    }
   ],
   "source": [
    "video.shape"
   ]
  },
  {
   "cell_type": "code",
   "execution_count": 24,
   "id": "b633ab2f-40d6-4d23-bc0d-9cd89c30575a",
   "metadata": {},
   "outputs": [
    {
     "data": {
      "text/plain": [
       "torch.Size([1, 3, 160, 160])"
      ]
     },
     "execution_count": 24,
     "metadata": {},
     "output_type": "execute_result"
    }
   ],
   "source": [
    "video.shape[:2] + video.shape[3:]"
   ]
  },
  {
   "cell_type": "code",
   "execution_count": 23,
   "id": "2aa34418-7e75-464b-b0a6-cc737da4918c",
   "metadata": {},
   "outputs": [
    {
     "data": {
      "text/plain": [
       "torch.Size([1, 192, 488, 10, 10])"
      ]
     },
     "execution_count": 23,
     "metadata": {},
     "output_type": "execute_result"
    }
   ],
   "source": [
    "features[\"video_test_0001078\"].shape"
   ]
  },
  {
   "cell_type": "code",
   "execution_count": 22,
   "id": "d66870e1-53be-480a-b3f9-99e8d471cace",
   "metadata": {},
   "outputs": [
    {
     "data": {
      "text/plain": [
       "dict_keys(['video_test_0000292', 'video_test_0001078', 'video_test_0000896', 'video_test_0000897', 'video_test_0000950', 'video_test_0001159', 'video_test_0001079', 'video_test_0000807', 'video_test_0000179', 'video_test_0000173', 'video_test_0001072', 'video_test_0001075', 'video_test_0000767', 'video_test_0001076', 'video_test_0000007', 'video_test_0000006', 'video_test_0000556', 'video_test_0001307', 'video_test_0001153', 'video_test_0000718', 'video_test_0000716', 'video_test_0001309', 'video_test_0000714', 'video_test_0000558', 'video_test_0001267', 'video_test_0000367', 'video_test_0001324', 'video_test_0000085', 'video_test_0000887', 'video_test_0001281', 'video_test_0000882', 'video_test_0000671', 'video_test_0000964', 'video_test_0001164', 'video_test_0001114', 'video_test_0000771', 'video_test_0001163', 'video_test_0001118', 'video_test_0001201', 'video_test_0001040', 'video_test_0001207', 'video_test_0000723', 'video_test_0000569', 'video_test_0000672', 'video_test_0000673', 'video_test_0000278', 'video_test_0001162', 'video_test_0000405', 'video_test_0000073', 'video_test_0000560', 'video_test_0001276', 'video_test_0000270', 'video_test_0000273', 'video_test_0000374', 'video_test_0000372', 'video_test_0001168', 'video_test_0000379', 'video_test_0001446', 'video_test_0001447', 'video_test_0001098', 'video_test_0000873', 'video_test_0000039', 'video_test_0000442', 'video_test_0001219', 'video_test_0000762', 'video_test_0000611', 'video_test_0000617', 'video_test_0000615', 'video_test_0001270', 'video_test_0000740', 'video_test_0000293', 'video_test_0000504', 'video_test_0000505', 'video_test_0000665', 'video_test_0000664', 'video_test_0000577', 'video_test_0000814', 'video_test_0001369', 'video_test_0001194', 'video_test_0001195', 'video_test_0001512', 'video_test_0001235', 'video_test_0001459', 'video_test_0000691', 'video_test_0000765', 'video_test_0001452', 'video_test_0000188', 'video_test_0000591', 'video_test_0001268', 'video_test_0000593', 'video_test_0000864', 'video_test_0000601', 'video_test_0001135', 'video_test_0000004', 'video_test_0000903', 'video_test_0000285', 'video_test_0001174', 'video_test_0000046', 'video_test_0000045', 'video_test_0001223', 'video_test_0001358', 'video_test_0001134', 'video_test_0000698', 'video_test_0000461', 'video_test_0001182', 'video_test_0000450', 'video_test_0000602', 'video_test_0001229', 'video_test_0000989', 'video_test_0000357', 'video_test_0001039', 'video_test_0000355', 'video_test_0000353', 'video_test_0001508', 'video_test_0000981', 'video_test_0000242', 'video_test_0000854', 'video_test_0001484', 'video_test_0000635', 'video_test_0001129', 'video_test_0001339', 'video_test_0001483', 'video_test_0001123', 'video_test_0001127', 'video_test_0000689', 'video_test_0000756', 'video_test_0001431', 'video_test_0000129', 'video_test_0001433', 'video_test_0001343', 'video_test_0000324', 'video_test_0001064', 'video_test_0001531', 'video_test_0001532', 'video_test_0000413', 'video_test_0000991', 'video_test_0001255', 'video_test_0000464', 'video_test_0001202', 'video_test_0001080', 'video_test_0001081', 'video_test_0000847', 'video_test_0000028', 'video_test_0000844', 'video_test_0000622', 'video_test_0000026', 'video_test_0001325', 'video_test_0001496', 'video_test_0001495', 'video_test_0000624', 'video_test_0000724', 'video_test_0001409', 'video_test_0000131', 'video_test_0000448', 'video_test_0000444', 'video_test_0000443', 'video_test_0001038', 'video_test_0000238', 'video_test_0001527', 'video_test_0001522', 'video_test_0000051', 'video_test_0001058', 'video_test_0001391', 'video_test_0000429', 'video_test_0000426', 'video_test_0000785', 'video_test_0000786', 'video_test_0001314', 'video_test_0000392', 'video_test_0000423', 'video_test_0001146', 'video_test_0001313', 'video_test_0001008', 'video_test_0001247', 'video_test_0000737', 'video_test_0001319', 'video_test_0000308', 'video_test_0000730', 'video_test_0000058', 'video_test_0000538', 'video_test_0001556', 'video_test_0000113', 'video_test_0000626', 'video_test_0000839', 'video_test_0000220', 'video_test_0001389', 'video_test_0000437', 'video_test_0000940', 'video_test_0000211', 'video_test_0000946', 'video_test_0001558', 'video_test_0000796', 'video_test_0000062', 'video_test_0000793', 'video_test_0000987', 'video_test_0001066', 'video_test_0000412', 'video_test_0000798', 'video_test_0001549', 'video_test_0000011', 'video_test_0001257', 'video_test_0000541', 'video_test_0000701', 'video_test_0000250', 'video_test_0000254', 'video_test_0000549', 'video_test_0001209', 'video_test_0001463', 'video_test_0001460', 'video_test_0000319', 'video_test_0001468', 'video_test_0000846', 'video_test_0001292'])"
      ]
     },
     "execution_count": 22,
     "metadata": {},
     "output_type": "execute_result"
    }
   ],
   "source": [
    "features.keys()"
   ]
  },
  {
   "cell_type": "code",
   "execution_count": null,
   "id": "98fc2051-cb58-424f-b099-410e2a63e61c",
   "metadata": {},
   "outputs": [],
   "source": []
  }
 ],
 "metadata": {
  "kernelspec": {
   "display_name": "co3d",
   "language": "python",
   "name": "co3d"
  },
  "language_info": {
   "codemirror_mode": {
    "name": "ipython",
    "version": 3
   },
   "file_extension": ".py",
   "mimetype": "text/x-python",
   "name": "python",
   "nbconvert_exporter": "python",
   "pygments_lexer": "ipython3",
   "version": "3.8.11"
  }
 },
 "nbformat": 4,
 "nbformat_minor": 5
}
